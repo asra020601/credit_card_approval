{
  "cells": [
    {
      "cell_type": "markdown",
      "metadata": {
        "id": "CfPoG6OBWAv0"
      },
      "source": [
        "### A credit score is a numerical expression based on a level analysis of a person's credit files, to represent the creditworthiness of an individual.\n",
        "### Generally speaking, credit score cards are based on historical data. Once encountering large economic fluctuations.Therefore credit card companies require huge amount of data to predict whether credit card should or shouldn't be approved for an indiavidual. We are tasked with analyzing and training this credit card approval dataset.\n"
      ]
    },
    {
      "cell_type": "markdown",
      "metadata": {
        "id": "JlAUo1_NrQCQ"
      },
      "source": [
        "# **BASIC EXPLORATION**"
      ]
    },
    {
      "cell_type": "code",
      "execution_count": 152,
      "metadata": {
        "id": "2FuiEN1xPULe"
      },
      "outputs": [],
      "source": [
        "import pandas as pd #importing all the import libraries\n",
        "import numpy as np\n",
        "import matplotlib.pyplot as plt\n",
        "import seaborn as sns\n",
        "import sklearn"
      ]
    },
    {
      "cell_type": "code",
      "execution_count": 153,
      "metadata": {
        "id": "NcorP5OxQVog"
      },
      "outputs": [],
      "source": [
        "df = pd.read_csv('/content/Credit_card.csv') #loading the data"
      ]
    },
    {
      "cell_type": "code",
      "execution_count": 154,
      "metadata": {
        "colab": {
          "base_uri": "https://localhost:8080/",
          "height": 423
        },
        "id": "EbsELXlHQdv_",
        "outputId": "9ca7910a-3025-4386-fe02-d04b3fc04217"
      },
      "outputs": [
        {
          "data": {
            "text/html": [
              "\n",
              "  <div id=\"df-34bcddb0-0705-4e62-9dad-648a0b754cb6\">\n",
              "    <div class=\"colab-df-container\">\n",
              "      <div>\n",
              "<style scoped>\n",
              "    .dataframe tbody tr th:only-of-type {\n",
              "        vertical-align: middle;\n",
              "    }\n",
              "\n",
              "    .dataframe tbody tr th {\n",
              "        vertical-align: top;\n",
              "    }\n",
              "\n",
              "    .dataframe thead th {\n",
              "        text-align: right;\n",
              "    }\n",
              "</style>\n",
              "<table border=\"1\" class=\"dataframe\">\n",
              "  <thead>\n",
              "    <tr style=\"text-align: right;\">\n",
              "      <th></th>\n",
              "      <th>Ind_ID</th>\n",
              "      <th>label</th>\n",
              "    </tr>\n",
              "  </thead>\n",
              "  <tbody>\n",
              "    <tr>\n",
              "      <th>0</th>\n",
              "      <td>5008827</td>\n",
              "      <td>1</td>\n",
              "    </tr>\n",
              "    <tr>\n",
              "      <th>1</th>\n",
              "      <td>5009744</td>\n",
              "      <td>1</td>\n",
              "    </tr>\n",
              "    <tr>\n",
              "      <th>2</th>\n",
              "      <td>5009746</td>\n",
              "      <td>1</td>\n",
              "    </tr>\n",
              "    <tr>\n",
              "      <th>3</th>\n",
              "      <td>5009749</td>\n",
              "      <td>1</td>\n",
              "    </tr>\n",
              "    <tr>\n",
              "      <th>4</th>\n",
              "      <td>5009752</td>\n",
              "      <td>1</td>\n",
              "    </tr>\n",
              "    <tr>\n",
              "      <th>...</th>\n",
              "      <td>...</td>\n",
              "      <td>...</td>\n",
              "    </tr>\n",
              "    <tr>\n",
              "      <th>1543</th>\n",
              "      <td>5028645</td>\n",
              "      <td>0</td>\n",
              "    </tr>\n",
              "    <tr>\n",
              "      <th>1544</th>\n",
              "      <td>5023655</td>\n",
              "      <td>0</td>\n",
              "    </tr>\n",
              "    <tr>\n",
              "      <th>1545</th>\n",
              "      <td>5115992</td>\n",
              "      <td>0</td>\n",
              "    </tr>\n",
              "    <tr>\n",
              "      <th>1546</th>\n",
              "      <td>5118219</td>\n",
              "      <td>0</td>\n",
              "    </tr>\n",
              "    <tr>\n",
              "      <th>1547</th>\n",
              "      <td>5053790</td>\n",
              "      <td>0</td>\n",
              "    </tr>\n",
              "  </tbody>\n",
              "</table>\n",
              "<p>1548 rows × 2 columns</p>\n",
              "</div>\n",
              "      <button class=\"colab-df-convert\" onclick=\"convertToInteractive('df-34bcddb0-0705-4e62-9dad-648a0b754cb6')\"\n",
              "              title=\"Convert this dataframe to an interactive table.\"\n",
              "              style=\"display:none;\">\n",
              "        \n",
              "  <svg xmlns=\"http://www.w3.org/2000/svg\" height=\"24px\"viewBox=\"0 0 24 24\"\n",
              "       width=\"24px\">\n",
              "    <path d=\"M0 0h24v24H0V0z\" fill=\"none\"/>\n",
              "    <path d=\"M18.56 5.44l.94 2.06.94-2.06 2.06-.94-2.06-.94-.94-2.06-.94 2.06-2.06.94zm-11 1L8.5 8.5l.94-2.06 2.06-.94-2.06-.94L8.5 2.5l-.94 2.06-2.06.94zm10 10l.94 2.06.94-2.06 2.06-.94-2.06-.94-.94-2.06-.94 2.06-2.06.94z\"/><path d=\"M17.41 7.96l-1.37-1.37c-.4-.4-.92-.59-1.43-.59-.52 0-1.04.2-1.43.59L10.3 9.45l-7.72 7.72c-.78.78-.78 2.05 0 2.83L4 21.41c.39.39.9.59 1.41.59.51 0 1.02-.2 1.41-.59l7.78-7.78 2.81-2.81c.8-.78.8-2.07 0-2.86zM5.41 20L4 18.59l7.72-7.72 1.47 1.35L5.41 20z\"/>\n",
              "  </svg>\n",
              "      </button>\n",
              "      \n",
              "  <style>\n",
              "    .colab-df-container {\n",
              "      display:flex;\n",
              "      flex-wrap:wrap;\n",
              "      gap: 12px;\n",
              "    }\n",
              "\n",
              "    .colab-df-convert {\n",
              "      background-color: #E8F0FE;\n",
              "      border: none;\n",
              "      border-radius: 50%;\n",
              "      cursor: pointer;\n",
              "      display: none;\n",
              "      fill: #1967D2;\n",
              "      height: 32px;\n",
              "      padding: 0 0 0 0;\n",
              "      width: 32px;\n",
              "    }\n",
              "\n",
              "    .colab-df-convert:hover {\n",
              "      background-color: #E2EBFA;\n",
              "      box-shadow: 0px 1px 2px rgba(60, 64, 67, 0.3), 0px 1px 3px 1px rgba(60, 64, 67, 0.15);\n",
              "      fill: #174EA6;\n",
              "    }\n",
              "\n",
              "    [theme=dark] .colab-df-convert {\n",
              "      background-color: #3B4455;\n",
              "      fill: #D2E3FC;\n",
              "    }\n",
              "\n",
              "    [theme=dark] .colab-df-convert:hover {\n",
              "      background-color: #434B5C;\n",
              "      box-shadow: 0px 1px 3px 1px rgba(0, 0, 0, 0.15);\n",
              "      filter: drop-shadow(0px 1px 2px rgba(0, 0, 0, 0.3));\n",
              "      fill: #FFFFFF;\n",
              "    }\n",
              "  </style>\n",
              "\n",
              "      <script>\n",
              "        const buttonEl =\n",
              "          document.querySelector('#df-34bcddb0-0705-4e62-9dad-648a0b754cb6 button.colab-df-convert');\n",
              "        buttonEl.style.display =\n",
              "          google.colab.kernel.accessAllowed ? 'block' : 'none';\n",
              "\n",
              "        async function convertToInteractive(key) {\n",
              "          const element = document.querySelector('#df-34bcddb0-0705-4e62-9dad-648a0b754cb6');\n",
              "          const dataTable =\n",
              "            await google.colab.kernel.invokeFunction('convertToInteractive',\n",
              "                                                     [key], {});\n",
              "          if (!dataTable) return;\n",
              "\n",
              "          const docLinkHtml = 'Like what you see? Visit the ' +\n",
              "            '<a target=\"_blank\" href=https://colab.research.google.com/notebooks/data_table.ipynb>data table notebook</a>'\n",
              "            + ' to learn more about interactive tables.';\n",
              "          element.innerHTML = '';\n",
              "          dataTable['output_type'] = 'display_data';\n",
              "          await google.colab.output.renderOutput(dataTable, element);\n",
              "          const docLink = document.createElement('div');\n",
              "          docLink.innerHTML = docLinkHtml;\n",
              "          element.appendChild(docLink);\n",
              "        }\n",
              "      </script>\n",
              "    </div>\n",
              "  </div>\n",
              "  "
            ],
            "text/plain": [
              "       Ind_ID  label\n",
              "0     5008827      1\n",
              "1     5009744      1\n",
              "2     5009746      1\n",
              "3     5009749      1\n",
              "4     5009752      1\n",
              "...       ...    ...\n",
              "1543  5028645      0\n",
              "1544  5023655      0\n",
              "1545  5115992      0\n",
              "1546  5118219      0\n",
              "1547  5053790      0\n",
              "\n",
              "[1548 rows x 2 columns]"
            ]
          },
          "execution_count": 154,
          "metadata": {},
          "output_type": "execute_result"
        }
      ],
      "source": [
        "df1 = pd.read_csv('/content/Credit_card_label.csv')\n",
        "df1"
      ]
    },
    {
      "cell_type": "markdown",
      "metadata": {
        "id": "sPisTzp7aLiP"
      },
      "source": [
        "### Target variable (Credit_card_approval) is inserted in the same table as the independent variables"
      ]
    },
    {
      "cell_type": "code",
      "execution_count": 155,
      "metadata": {
        "id": "v3tw1uk8Qj0-"
      },
      "outputs": [],
      "source": [
        "df.insert(18 ,\"Credit_card_approval\", df1['label'], True)"
      ]
    },
    {
      "cell_type": "code",
      "execution_count": 156,
      "metadata": {
        "colab": {
          "base_uri": "https://localhost:8080/",
          "height": 696
        },
        "id": "0MwHLlbyQtkm",
        "outputId": "13ea6628-a777-4009-cb87-4d99400678d9"
      },
      "outputs": [
        {
          "data": {
            "text/html": [
              "\n",
              "  <div id=\"df-6110d288-bf60-4e1d-adac-7a9adc0828d2\">\n",
              "    <div class=\"colab-df-container\">\n",
              "      <div>\n",
              "<style scoped>\n",
              "    .dataframe tbody tr th:only-of-type {\n",
              "        vertical-align: middle;\n",
              "    }\n",
              "\n",
              "    .dataframe tbody tr th {\n",
              "        vertical-align: top;\n",
              "    }\n",
              "\n",
              "    .dataframe thead th {\n",
              "        text-align: right;\n",
              "    }\n",
              "</style>\n",
              "<table border=\"1\" class=\"dataframe\">\n",
              "  <thead>\n",
              "    <tr style=\"text-align: right;\">\n",
              "      <th></th>\n",
              "      <th>Ind_ID</th>\n",
              "      <th>GENDER</th>\n",
              "      <th>Car_Owner</th>\n",
              "      <th>Propert_Owner</th>\n",
              "      <th>CHILDREN</th>\n",
              "      <th>Annual_income</th>\n",
              "      <th>Type_Income</th>\n",
              "      <th>EDUCATION</th>\n",
              "      <th>Marital_status</th>\n",
              "      <th>Housing_type</th>\n",
              "      <th>Birthday_count</th>\n",
              "      <th>Employed_days</th>\n",
              "      <th>Mobile_phone</th>\n",
              "      <th>Work_Phone</th>\n",
              "      <th>Phone</th>\n",
              "      <th>EMAIL_ID</th>\n",
              "      <th>Type_Occupation</th>\n",
              "      <th>Family_Members</th>\n",
              "      <th>Credit_card_approval</th>\n",
              "    </tr>\n",
              "  </thead>\n",
              "  <tbody>\n",
              "    <tr>\n",
              "      <th>0</th>\n",
              "      <td>5008827</td>\n",
              "      <td>M</td>\n",
              "      <td>Y</td>\n",
              "      <td>Y</td>\n",
              "      <td>0</td>\n",
              "      <td>180000.0</td>\n",
              "      <td>Pensioner</td>\n",
              "      <td>Higher education</td>\n",
              "      <td>Married</td>\n",
              "      <td>House / apartment</td>\n",
              "      <td>-18772.0</td>\n",
              "      <td>365243</td>\n",
              "      <td>1</td>\n",
              "      <td>0</td>\n",
              "      <td>0</td>\n",
              "      <td>0</td>\n",
              "      <td>NaN</td>\n",
              "      <td>2</td>\n",
              "      <td>1</td>\n",
              "    </tr>\n",
              "    <tr>\n",
              "      <th>1</th>\n",
              "      <td>5009744</td>\n",
              "      <td>F</td>\n",
              "      <td>Y</td>\n",
              "      <td>N</td>\n",
              "      <td>0</td>\n",
              "      <td>315000.0</td>\n",
              "      <td>Commercial associate</td>\n",
              "      <td>Higher education</td>\n",
              "      <td>Married</td>\n",
              "      <td>House / apartment</td>\n",
              "      <td>-13557.0</td>\n",
              "      <td>-586</td>\n",
              "      <td>1</td>\n",
              "      <td>1</td>\n",
              "      <td>1</td>\n",
              "      <td>0</td>\n",
              "      <td>NaN</td>\n",
              "      <td>2</td>\n",
              "      <td>1</td>\n",
              "    </tr>\n",
              "    <tr>\n",
              "      <th>2</th>\n",
              "      <td>5009746</td>\n",
              "      <td>F</td>\n",
              "      <td>Y</td>\n",
              "      <td>N</td>\n",
              "      <td>0</td>\n",
              "      <td>315000.0</td>\n",
              "      <td>Commercial associate</td>\n",
              "      <td>Higher education</td>\n",
              "      <td>Married</td>\n",
              "      <td>House / apartment</td>\n",
              "      <td>NaN</td>\n",
              "      <td>-586</td>\n",
              "      <td>1</td>\n",
              "      <td>1</td>\n",
              "      <td>1</td>\n",
              "      <td>0</td>\n",
              "      <td>NaN</td>\n",
              "      <td>2</td>\n",
              "      <td>1</td>\n",
              "    </tr>\n",
              "    <tr>\n",
              "      <th>3</th>\n",
              "      <td>5009749</td>\n",
              "      <td>F</td>\n",
              "      <td>Y</td>\n",
              "      <td>N</td>\n",
              "      <td>0</td>\n",
              "      <td>NaN</td>\n",
              "      <td>Commercial associate</td>\n",
              "      <td>Higher education</td>\n",
              "      <td>Married</td>\n",
              "      <td>House / apartment</td>\n",
              "      <td>-13557.0</td>\n",
              "      <td>-586</td>\n",
              "      <td>1</td>\n",
              "      <td>1</td>\n",
              "      <td>1</td>\n",
              "      <td>0</td>\n",
              "      <td>NaN</td>\n",
              "      <td>2</td>\n",
              "      <td>1</td>\n",
              "    </tr>\n",
              "    <tr>\n",
              "      <th>4</th>\n",
              "      <td>5009752</td>\n",
              "      <td>F</td>\n",
              "      <td>Y</td>\n",
              "      <td>N</td>\n",
              "      <td>0</td>\n",
              "      <td>315000.0</td>\n",
              "      <td>Commercial associate</td>\n",
              "      <td>Higher education</td>\n",
              "      <td>Married</td>\n",
              "      <td>House / apartment</td>\n",
              "      <td>-13557.0</td>\n",
              "      <td>-586</td>\n",
              "      <td>1</td>\n",
              "      <td>1</td>\n",
              "      <td>1</td>\n",
              "      <td>0</td>\n",
              "      <td>NaN</td>\n",
              "      <td>2</td>\n",
              "      <td>1</td>\n",
              "    </tr>\n",
              "    <tr>\n",
              "      <th>...</th>\n",
              "      <td>...</td>\n",
              "      <td>...</td>\n",
              "      <td>...</td>\n",
              "      <td>...</td>\n",
              "      <td>...</td>\n",
              "      <td>...</td>\n",
              "      <td>...</td>\n",
              "      <td>...</td>\n",
              "      <td>...</td>\n",
              "      <td>...</td>\n",
              "      <td>...</td>\n",
              "      <td>...</td>\n",
              "      <td>...</td>\n",
              "      <td>...</td>\n",
              "      <td>...</td>\n",
              "      <td>...</td>\n",
              "      <td>...</td>\n",
              "      <td>...</td>\n",
              "      <td>...</td>\n",
              "    </tr>\n",
              "    <tr>\n",
              "      <th>1543</th>\n",
              "      <td>5028645</td>\n",
              "      <td>F</td>\n",
              "      <td>N</td>\n",
              "      <td>Y</td>\n",
              "      <td>0</td>\n",
              "      <td>NaN</td>\n",
              "      <td>Commercial associate</td>\n",
              "      <td>Higher education</td>\n",
              "      <td>Married</td>\n",
              "      <td>House / apartment</td>\n",
              "      <td>-11957.0</td>\n",
              "      <td>-2182</td>\n",
              "      <td>1</td>\n",
              "      <td>0</td>\n",
              "      <td>0</td>\n",
              "      <td>0</td>\n",
              "      <td>Managers</td>\n",
              "      <td>2</td>\n",
              "      <td>0</td>\n",
              "    </tr>\n",
              "    <tr>\n",
              "      <th>1544</th>\n",
              "      <td>5023655</td>\n",
              "      <td>F</td>\n",
              "      <td>N</td>\n",
              "      <td>N</td>\n",
              "      <td>0</td>\n",
              "      <td>225000.0</td>\n",
              "      <td>Commercial associate</td>\n",
              "      <td>Incomplete higher</td>\n",
              "      <td>Single / not married</td>\n",
              "      <td>House / apartment</td>\n",
              "      <td>-10229.0</td>\n",
              "      <td>-1209</td>\n",
              "      <td>1</td>\n",
              "      <td>0</td>\n",
              "      <td>0</td>\n",
              "      <td>0</td>\n",
              "      <td>Accountants</td>\n",
              "      <td>1</td>\n",
              "      <td>0</td>\n",
              "    </tr>\n",
              "    <tr>\n",
              "      <th>1545</th>\n",
              "      <td>5115992</td>\n",
              "      <td>M</td>\n",
              "      <td>Y</td>\n",
              "      <td>Y</td>\n",
              "      <td>2</td>\n",
              "      <td>180000.0</td>\n",
              "      <td>Working</td>\n",
              "      <td>Higher education</td>\n",
              "      <td>Married</td>\n",
              "      <td>House / apartment</td>\n",
              "      <td>-13174.0</td>\n",
              "      <td>-2477</td>\n",
              "      <td>1</td>\n",
              "      <td>0</td>\n",
              "      <td>0</td>\n",
              "      <td>0</td>\n",
              "      <td>Managers</td>\n",
              "      <td>4</td>\n",
              "      <td>0</td>\n",
              "    </tr>\n",
              "    <tr>\n",
              "      <th>1546</th>\n",
              "      <td>5118219</td>\n",
              "      <td>M</td>\n",
              "      <td>Y</td>\n",
              "      <td>N</td>\n",
              "      <td>0</td>\n",
              "      <td>270000.0</td>\n",
              "      <td>Working</td>\n",
              "      <td>Secondary / secondary special</td>\n",
              "      <td>Civil marriage</td>\n",
              "      <td>House / apartment</td>\n",
              "      <td>-15292.0</td>\n",
              "      <td>-645</td>\n",
              "      <td>1</td>\n",
              "      <td>1</td>\n",
              "      <td>1</td>\n",
              "      <td>0</td>\n",
              "      <td>Drivers</td>\n",
              "      <td>2</td>\n",
              "      <td>0</td>\n",
              "    </tr>\n",
              "    <tr>\n",
              "      <th>1547</th>\n",
              "      <td>5053790</td>\n",
              "      <td>F</td>\n",
              "      <td>Y</td>\n",
              "      <td>Y</td>\n",
              "      <td>0</td>\n",
              "      <td>225000.0</td>\n",
              "      <td>Working</td>\n",
              "      <td>Higher education</td>\n",
              "      <td>Married</td>\n",
              "      <td>House / apartment</td>\n",
              "      <td>-16601.0</td>\n",
              "      <td>-2859</td>\n",
              "      <td>1</td>\n",
              "      <td>0</td>\n",
              "      <td>0</td>\n",
              "      <td>0</td>\n",
              "      <td>NaN</td>\n",
              "      <td>2</td>\n",
              "      <td>0</td>\n",
              "    </tr>\n",
              "  </tbody>\n",
              "</table>\n",
              "<p>1548 rows × 19 columns</p>\n",
              "</div>\n",
              "      <button class=\"colab-df-convert\" onclick=\"convertToInteractive('df-6110d288-bf60-4e1d-adac-7a9adc0828d2')\"\n",
              "              title=\"Convert this dataframe to an interactive table.\"\n",
              "              style=\"display:none;\">\n",
              "        \n",
              "  <svg xmlns=\"http://www.w3.org/2000/svg\" height=\"24px\"viewBox=\"0 0 24 24\"\n",
              "       width=\"24px\">\n",
              "    <path d=\"M0 0h24v24H0V0z\" fill=\"none\"/>\n",
              "    <path d=\"M18.56 5.44l.94 2.06.94-2.06 2.06-.94-2.06-.94-.94-2.06-.94 2.06-2.06.94zm-11 1L8.5 8.5l.94-2.06 2.06-.94-2.06-.94L8.5 2.5l-.94 2.06-2.06.94zm10 10l.94 2.06.94-2.06 2.06-.94-2.06-.94-.94-2.06-.94 2.06-2.06.94z\"/><path d=\"M17.41 7.96l-1.37-1.37c-.4-.4-.92-.59-1.43-.59-.52 0-1.04.2-1.43.59L10.3 9.45l-7.72 7.72c-.78.78-.78 2.05 0 2.83L4 21.41c.39.39.9.59 1.41.59.51 0 1.02-.2 1.41-.59l7.78-7.78 2.81-2.81c.8-.78.8-2.07 0-2.86zM5.41 20L4 18.59l7.72-7.72 1.47 1.35L5.41 20z\"/>\n",
              "  </svg>\n",
              "      </button>\n",
              "      \n",
              "  <style>\n",
              "    .colab-df-container {\n",
              "      display:flex;\n",
              "      flex-wrap:wrap;\n",
              "      gap: 12px;\n",
              "    }\n",
              "\n",
              "    .colab-df-convert {\n",
              "      background-color: #E8F0FE;\n",
              "      border: none;\n",
              "      border-radius: 50%;\n",
              "      cursor: pointer;\n",
              "      display: none;\n",
              "      fill: #1967D2;\n",
              "      height: 32px;\n",
              "      padding: 0 0 0 0;\n",
              "      width: 32px;\n",
              "    }\n",
              "\n",
              "    .colab-df-convert:hover {\n",
              "      background-color: #E2EBFA;\n",
              "      box-shadow: 0px 1px 2px rgba(60, 64, 67, 0.3), 0px 1px 3px 1px rgba(60, 64, 67, 0.15);\n",
              "      fill: #174EA6;\n",
              "    }\n",
              "\n",
              "    [theme=dark] .colab-df-convert {\n",
              "      background-color: #3B4455;\n",
              "      fill: #D2E3FC;\n",
              "    }\n",
              "\n",
              "    [theme=dark] .colab-df-convert:hover {\n",
              "      background-color: #434B5C;\n",
              "      box-shadow: 0px 1px 3px 1px rgba(0, 0, 0, 0.15);\n",
              "      filter: drop-shadow(0px 1px 2px rgba(0, 0, 0, 0.3));\n",
              "      fill: #FFFFFF;\n",
              "    }\n",
              "  </style>\n",
              "\n",
              "      <script>\n",
              "        const buttonEl =\n",
              "          document.querySelector('#df-6110d288-bf60-4e1d-adac-7a9adc0828d2 button.colab-df-convert');\n",
              "        buttonEl.style.display =\n",
              "          google.colab.kernel.accessAllowed ? 'block' : 'none';\n",
              "\n",
              "        async function convertToInteractive(key) {\n",
              "          const element = document.querySelector('#df-6110d288-bf60-4e1d-adac-7a9adc0828d2');\n",
              "          const dataTable =\n",
              "            await google.colab.kernel.invokeFunction('convertToInteractive',\n",
              "                                                     [key], {});\n",
              "          if (!dataTable) return;\n",
              "\n",
              "          const docLinkHtml = 'Like what you see? Visit the ' +\n",
              "            '<a target=\"_blank\" href=https://colab.research.google.com/notebooks/data_table.ipynb>data table notebook</a>'\n",
              "            + ' to learn more about interactive tables.';\n",
              "          element.innerHTML = '';\n",
              "          dataTable['output_type'] = 'display_data';\n",
              "          await google.colab.output.renderOutput(dataTable, element);\n",
              "          const docLink = document.createElement('div');\n",
              "          docLink.innerHTML = docLinkHtml;\n",
              "          element.appendChild(docLink);\n",
              "        }\n",
              "      </script>\n",
              "    </div>\n",
              "  </div>\n",
              "  "
            ],
            "text/plain": [
              "       Ind_ID GENDER Car_Owner Propert_Owner  CHILDREN  Annual_income  \\\n",
              "0     5008827      M         Y             Y         0       180000.0   \n",
              "1     5009744      F         Y             N         0       315000.0   \n",
              "2     5009746      F         Y             N         0       315000.0   \n",
              "3     5009749      F         Y             N         0            NaN   \n",
              "4     5009752      F         Y             N         0       315000.0   \n",
              "...       ...    ...       ...           ...       ...            ...   \n",
              "1543  5028645      F         N             Y         0            NaN   \n",
              "1544  5023655      F         N             N         0       225000.0   \n",
              "1545  5115992      M         Y             Y         2       180000.0   \n",
              "1546  5118219      M         Y             N         0       270000.0   \n",
              "1547  5053790      F         Y             Y         0       225000.0   \n",
              "\n",
              "               Type_Income                      EDUCATION  \\\n",
              "0                Pensioner               Higher education   \n",
              "1     Commercial associate               Higher education   \n",
              "2     Commercial associate               Higher education   \n",
              "3     Commercial associate               Higher education   \n",
              "4     Commercial associate               Higher education   \n",
              "...                    ...                            ...   \n",
              "1543  Commercial associate               Higher education   \n",
              "1544  Commercial associate              Incomplete higher   \n",
              "1545               Working               Higher education   \n",
              "1546               Working  Secondary / secondary special   \n",
              "1547               Working               Higher education   \n",
              "\n",
              "            Marital_status       Housing_type  Birthday_count  Employed_days  \\\n",
              "0                  Married  House / apartment        -18772.0         365243   \n",
              "1                  Married  House / apartment        -13557.0           -586   \n",
              "2                  Married  House / apartment             NaN           -586   \n",
              "3                  Married  House / apartment        -13557.0           -586   \n",
              "4                  Married  House / apartment        -13557.0           -586   \n",
              "...                    ...                ...             ...            ...   \n",
              "1543               Married  House / apartment        -11957.0          -2182   \n",
              "1544  Single / not married  House / apartment        -10229.0          -1209   \n",
              "1545               Married  House / apartment        -13174.0          -2477   \n",
              "1546        Civil marriage  House / apartment        -15292.0           -645   \n",
              "1547               Married  House / apartment        -16601.0          -2859   \n",
              "\n",
              "      Mobile_phone  Work_Phone  Phone  EMAIL_ID Type_Occupation  \\\n",
              "0                1           0      0         0             NaN   \n",
              "1                1           1      1         0             NaN   \n",
              "2                1           1      1         0             NaN   \n",
              "3                1           1      1         0             NaN   \n",
              "4                1           1      1         0             NaN   \n",
              "...            ...         ...    ...       ...             ...   \n",
              "1543             1           0      0         0        Managers   \n",
              "1544             1           0      0         0     Accountants   \n",
              "1545             1           0      0         0        Managers   \n",
              "1546             1           1      1         0         Drivers   \n",
              "1547             1           0      0         0             NaN   \n",
              "\n",
              "      Family_Members  Credit_card_approval  \n",
              "0                  2                     1  \n",
              "1                  2                     1  \n",
              "2                  2                     1  \n",
              "3                  2                     1  \n",
              "4                  2                     1  \n",
              "...              ...                   ...  \n",
              "1543               2                     0  \n",
              "1544               1                     0  \n",
              "1545               4                     0  \n",
              "1546               2                     0  \n",
              "1547               2                     0  \n",
              "\n",
              "[1548 rows x 19 columns]"
            ]
          },
          "execution_count": 156,
          "metadata": {},
          "output_type": "execute_result"
        }
      ],
      "source": [
        "df"
      ]
    },
    {
      "cell_type": "code",
      "execution_count": 157,
      "metadata": {
        "colab": {
          "base_uri": "https://localhost:8080/"
        },
        "id": "twTqCZhmSHzI",
        "outputId": "909b7f3a-06f2-483a-99f6-851c927a06f9"
      },
      "outputs": [
        {
          "data": {
            "text/plain": [
              "Ind_ID                  1548\n",
              "GENDER                     2\n",
              "Car_Owner                  2\n",
              "Propert_Owner              2\n",
              "CHILDREN                   6\n",
              "Annual_income            115\n",
              "Type_Income                4\n",
              "EDUCATION                  5\n",
              "Marital_status             5\n",
              "Housing_type               6\n",
              "Birthday_count          1270\n",
              "Employed_days            956\n",
              "Mobile_phone               1\n",
              "Work_Phone                 2\n",
              "Phone                      2\n",
              "EMAIL_ID                   2\n",
              "Type_Occupation           18\n",
              "Family_Members             7\n",
              "Credit_card_approval       2\n",
              "dtype: int64"
            ]
          },
          "execution_count": 157,
          "metadata": {},
          "output_type": "execute_result"
        }
      ],
      "source": [
        "df.nunique() #checking the unique values"
      ]
    },
    {
      "cell_type": "code",
      "execution_count": 158,
      "metadata": {
        "colab": {
          "base_uri": "https://localhost:8080/"
        },
        "id": "9PtxA5TmTW14",
        "outputId": "07e0317a-6810-4000-b843-06f8073050ae"
      },
      "outputs": [
        {
          "data": {
            "text/plain": [
              "Ind_ID                    0\n",
              "GENDER                    7\n",
              "Car_Owner                 0\n",
              "Propert_Owner             0\n",
              "CHILDREN                  0\n",
              "Annual_income            23\n",
              "Type_Income               0\n",
              "EDUCATION                 0\n",
              "Marital_status            0\n",
              "Housing_type              0\n",
              "Birthday_count           22\n",
              "Employed_days             0\n",
              "Mobile_phone              0\n",
              "Work_Phone                0\n",
              "Phone                     0\n",
              "EMAIL_ID                  0\n",
              "Type_Occupation         488\n",
              "Family_Members            0\n",
              "Credit_card_approval      0\n",
              "dtype: int64"
            ]
          },
          "execution_count": 158,
          "metadata": {},
          "output_type": "execute_result"
        }
      ],
      "source": [
        "df.isnull().sum() #checking for null values"
      ]
    },
    {
      "cell_type": "markdown",
      "metadata": {
        "id": "aZQ2QgTercD7"
      },
      "source": [
        "\n",
        "# **OUTLIERS**\n",
        "\n"
      ]
    },
    {
      "cell_type": "markdown",
      "metadata": {
        "id": "d1nE7ppSaywf"
      },
      "source": [
        "### Now we handle outliers in the numerical column. Cutting off the extreme values gives us a less skewed data."
      ]
    },
    {
      "cell_type": "code",
      "execution_count": 159,
      "metadata": {
        "id": "zFQrphtPmisl"
      },
      "outputs": [],
      "source": [
        "data = df['Annual_income']\n",
        "mean = np.mean(data) #using numpy mean\n",
        "std = np.std(data) #using numpy std\n",
        "\n"
      ]
    },
    {
      "cell_type": "markdown",
      "metadata": {
        "id": "Lqhye1fqf1MG"
      },
      "source": [
        "### In the above code, we find the mean and standard deviation of annual income. In the code cell right blow this, we find out the outliers."
      ]
    },
    {
      "cell_type": "code",
      "execution_count": 160,
      "metadata": {
        "id": "-Fa9Ogfumv7y"
      },
      "outputs": [],
      "source": [
        "outlier_upper = [i for i in data if i > mean+1.5*std]\n",
        "outlier_lower = [i for i in data if i < mean-1.5*std]\n"
      ]
    },
    {
      "cell_type": "code",
      "execution_count": 161,
      "metadata": {
        "id": "xPPJm2Fim1iV"
      },
      "outputs": [],
      "source": [
        "data1 = sorted(data)"
      ]
    },
    {
      "cell_type": "code",
      "execution_count": 162,
      "metadata": {
        "id": "jZFLdYTPnntB"
      },
      "outputs": [],
      "source": [
        "outliers = [i for i in outlier_upper if i in data1]"
      ]
    },
    {
      "cell_type": "code",
      "execution_count": 163,
      "metadata": {
        "id": "o_QNZLrbnA26"
      },
      "outputs": [],
      "source": [
        "no_outliers = [i for i in data1 if i not in outliers]\n"
      ]
    },
    {
      "cell_type": "code",
      "execution_count": 164,
      "metadata": {
        "id": "VkOMykg2n3do"
      },
      "outputs": [],
      "source": [
        "df['new_Annual_income'] = pd.Series(no_outliers)"
      ]
    },
    {
      "cell_type": "markdown",
      "metadata": {
        "id": "GYMHtXJcgTwo"
      },
      "source": [
        "### Checking if the annual income data is less skewed or not. Here mean can be seen in the red line and the medisn in the yellow line."
      ]
    },
    {
      "cell_type": "code",
      "execution_count": 165,
      "metadata": {
        "colab": {
          "base_uri": "https://localhost:8080/",
          "height": 0
        },
        "id": "iYip3OAKlZTS",
        "outputId": "197c5780-01c5-497d-9452-5a6f3bfb05eb"
      },
      "outputs": [
        {
          "data": {
            "text/plain": [
              "<matplotlib.lines.Line2D at 0x7f0420549b20>"
            ]
          },
          "execution_count": 165,
          "metadata": {},
          "output_type": "execute_result"
        },
        {
          "data": {
            "image/png": "[encoded data removed]",
            "text/plain": [
              "<Figure size 432x288 with 1 Axes>"
            ]
          },
          "metadata": {
            "needs_background": "light"
          },
          "output_type": "display_data"
        }
      ],
      "source": [
        "sns.histplot(df['new_Annual_income'])\n",
        "plt.axvline(x=df['new_Annual_income'].mean(),\n",
        "            color='red', linestyle= '--')\n",
        "plt.axvline(x=df['new_Annual_income'].median(),\n",
        "            color='yellow', linestyle = '--')\n"
      ]
    },
    {
      "cell_type": "markdown",
      "metadata": {
        "id": "uHTAyIkqglhl"
      },
      "source": [
        "### No outliers can be seen in the below code."
      ]
    },
    {
      "cell_type": "code",
      "execution_count": 166,
      "metadata": {
        "colab": {
          "base_uri": "https://localhost:8080/",
          "height": 0
        },
        "id": "99GzgHzgekVZ",
        "outputId": "067849c6-ae01-411c-f207-f3948837437b"
      },
      "outputs": [
        {
          "name": "stderr",
          "output_type": "stream",
          "text": [
            "/usr/local/lib/python3.8/dist-packages/seaborn/_decorators.py:36: FutureWarning: Pass the following variable as a keyword arg: x. From version 0.12, the only valid positional argument will be `data`, and passing other arguments without an explicit keyword will result in an error or misinterpretation.\n",
            "  warnings.warn(\n"
          ]
        },
        {
          "data": {
            "text/plain": [
              "<matplotlib.axes._subplots.AxesSubplot at 0x7f042051e8e0>"
            ]
          },
          "execution_count": 166,
          "metadata": {},
          "output_type": "execute_result"
        },
        {
          "data": {
            "image/png": "[encoded data removed]",
            "text/plain": [
              "<Figure size 432x288 with 1 Axes>"
            ]
          },
          "metadata": {
            "needs_background": "light"
          },
          "output_type": "display_data"
        }
      ],
      "source": [
        "sns.boxplot(df['new_Annual_income'],showmeans=True)\n"
      ]
    },
    {
      "cell_type": "markdown",
      "metadata": {
        "id": "dSnmSLN3r5dQ"
      },
      "source": [
        "# **MISSING VALUES**"
      ]
    },
    {
      "cell_type": "markdown",
      "metadata": {
        "id": "IrMq1Gf4gujc"
      },
      "source": [
        "### The null values in the normalized annual income are replaced with the median value."
      ]
    },
    {
      "cell_type": "code",
      "execution_count": 167,
      "metadata": {
        "id": "zj4ys-THsRqS"
      },
      "outputs": [],
      "source": [
        "df['new_Annual_income'].fillna(int( df['new_Annual_income'].median()),inplace = True)"
      ]
    },
    {
      "cell_type": "markdown",
      "metadata": {
        "id": "Gtax0k21iL35"
      },
      "source": [
        "### We check for null values once again."
      ]
    },
    {
      "cell_type": "code",
      "execution_count": 168,
      "metadata": {
        "colab": {
          "base_uri": "https://localhost:8080/"
        },
        "id": "IYeuZUGTyjET",
        "outputId": "db02ce6a-3e70-4fff-d540-0c66a789ebfc"
      },
      "outputs": [
        {
          "data": {
            "text/plain": [
              "Ind_ID                    0\n",
              "GENDER                    7\n",
              "Car_Owner                 0\n",
              "Propert_Owner             0\n",
              "CHILDREN                  0\n",
              "Annual_income            23\n",
              "Type_Income               0\n",
              "EDUCATION                 0\n",
              "Marital_status            0\n",
              "Housing_type              0\n",
              "Birthday_count           22\n",
              "Employed_days             0\n",
              "Mobile_phone              0\n",
              "Work_Phone                0\n",
              "Phone                     0\n",
              "EMAIL_ID                  0\n",
              "Type_Occupation         488\n",
              "Family_Members            0\n",
              "Credit_card_approval      0\n",
              "new_Annual_income         0\n",
              "dtype: int64"
            ]
          },
          "execution_count": 168,
          "metadata": {},
          "output_type": "execute_result"
        }
      ],
      "source": [
        "df.isnull().sum()"
      ]
    },
    {
      "cell_type": "code",
      "execution_count": 169,
      "metadata": {
        "colab": {
          "base_uri": "https://localhost:8080/",
          "height": 0
        },
        "id": "1YeJOUb4L6Ae",
        "outputId": "39737df3-92d5-46e5-ce0b-0292b6d29dee"
      },
      "outputs": [
        {
          "data": {
            "text/plain": [
              "<matplotlib.axes._subplots.AxesSubplot at 0x7f0420477130>"
            ]
          },
          "execution_count": 169,
          "metadata": {},
          "output_type": "execute_result"
        },
        {
          "data": {
            "image/png": "[encoded data removed]",
            "text/plain": [
              "<Figure size 1800x720 with 2 Axes>"
            ]
          },
          "metadata": {
            "needs_background": "light"
          },
          "output_type": "display_data"
        }
      ],
      "source": [
        "import missingno as msno\n",
        "msno.matrix(df)"
      ]
    },
    {
      "cell_type": "markdown",
      "metadata": {
        "id": "_aiYSowVhTfE"
      },
      "source": [
        "### As almost 31% of data is missing in 'Type_occupation' column I have decided to drop it. And annual income is skewed so it is also dropped."
      ]
    },
    {
      "cell_type": "code",
      "execution_count": 170,
      "metadata": {
        "id": "Qjb6NJJMy0yY"
      },
      "outputs": [],
      "source": [
        "df = df.drop(['Type_Occupation','Annual_income'],axis = 1)"
      ]
    },
    {
      "cell_type": "markdown",
      "metadata": {
        "id": "Q_VmH2vxiTBX"
      },
      "source": [
        "### Finally we drop all the null values in the entire dataset."
      ]
    },
    {
      "cell_type": "code",
      "execution_count": 171,
      "metadata": {
        "id": "pJ1on9YWzlkR"
      },
      "outputs": [],
      "source": [
        "df.dropna(inplace= True)"
      ]
    },
    {
      "cell_type": "markdown",
      "metadata": {
        "id": "cX-sPV5LysLZ"
      },
      "source": [
        "\n",
        "\n",
        "\n",
        "\n",
        "# **DATA PRE-PROCESSING**"
      ]
    },
    {
      "cell_type": "markdown",
      "metadata": {
        "id": "C5irerZhi3lj"
      },
      "source": [
        "### Since we number of days after birth of an individual, we can easily calculate a person's age."
      ]
    },
    {
      "cell_type": "code",
      "execution_count": 172,
      "metadata": {
        "id": "OoHSz6ahtcit"
      },
      "outputs": [],
      "source": [
        "df['Age'] = (df['Birthday_count']*-1)/365"
      ]
    },
    {
      "cell_type": "markdown",
      "metadata": {
        "id": "V98hn7e4iokY"
      },
      "source": [
        "### Since categorical data cannot be used in a machine learning model. One Hot Encoding is performed."
      ]
    },
    {
      "cell_type": "code",
      "execution_count": 173,
      "metadata": {
        "id": "6JbNA6_HVkkb"
      },
      "outputs": [],
      "source": [
        "df = pd.get_dummies(df[['Ind_ID', 'GENDER', 'Car_Owner', 'Propert_Owner', 'CHILDREN',\n",
        "       'Type_Income', 'EDUCATION', 'Marital_status', 'Housing_type',\n",
        "       'Birthday_count', 'Employed_days', 'Mobile_phone', 'Work_Phone',\n",
        "       'Phone', 'EMAIL_ID', 'Family_Members', 'Credit_card_approval',\n",
        "       'new_Annual_income','Age']])"
      ]
    },
    {
      "cell_type": "code",
      "execution_count": 174,
      "metadata": {
        "colab": {
          "base_uri": "https://localhost:8080/",
          "height": 317
        },
        "id": "NmnrwQCY1Gjp",
        "outputId": "1621b67c-2323-483e-da1e-7056da79b968"
      },
      "outputs": [
        {
          "data": {
            "text/html": [
              "\n",
              "  <div id=\"df-287c2b83-5714-4ef0-a521-778e33bf68b0\">\n",
              "    <div class=\"colab-df-container\">\n",
              "      <div>\n",
              "<style scoped>\n",
              "    .dataframe tbody tr th:only-of-type {\n",
              "        vertical-align: middle;\n",
              "    }\n",
              "\n",
              "    .dataframe tbody tr th {\n",
              "        vertical-align: top;\n",
              "    }\n",
              "\n",
              "    .dataframe thead th {\n",
              "        text-align: right;\n",
              "    }\n",
              "</style>\n",
              "<table border=\"1\" class=\"dataframe\">\n",
              "  <thead>\n",
              "    <tr style=\"text-align: right;\">\n",
              "      <th></th>\n",
              "      <th>Ind_ID</th>\n",
              "      <th>CHILDREN</th>\n",
              "      <th>Birthday_count</th>\n",
              "      <th>Employed_days</th>\n",
              "      <th>Mobile_phone</th>\n",
              "      <th>Work_Phone</th>\n",
              "      <th>Phone</th>\n",
              "      <th>EMAIL_ID</th>\n",
              "      <th>Family_Members</th>\n",
              "      <th>Credit_card_approval</th>\n",
              "      <th>...</th>\n",
              "      <th>Marital_status_Married</th>\n",
              "      <th>Marital_status_Separated</th>\n",
              "      <th>Marital_status_Single / not married</th>\n",
              "      <th>Marital_status_Widow</th>\n",
              "      <th>Housing_type_Co-op apartment</th>\n",
              "      <th>Housing_type_House / apartment</th>\n",
              "      <th>Housing_type_Municipal apartment</th>\n",
              "      <th>Housing_type_Office apartment</th>\n",
              "      <th>Housing_type_Rented apartment</th>\n",
              "      <th>Housing_type_With parents</th>\n",
              "    </tr>\n",
              "  </thead>\n",
              "  <tbody>\n",
              "    <tr>\n",
              "      <th>1543</th>\n",
              "      <td>5028645</td>\n",
              "      <td>0</td>\n",
              "      <td>-11957.0</td>\n",
              "      <td>-2182</td>\n",
              "      <td>1</td>\n",
              "      <td>0</td>\n",
              "      <td>0</td>\n",
              "      <td>0</td>\n",
              "      <td>2</td>\n",
              "      <td>0</td>\n",
              "      <td>...</td>\n",
              "      <td>1</td>\n",
              "      <td>0</td>\n",
              "      <td>0</td>\n",
              "      <td>0</td>\n",
              "      <td>0</td>\n",
              "      <td>1</td>\n",
              "      <td>0</td>\n",
              "      <td>0</td>\n",
              "      <td>0</td>\n",
              "      <td>0</td>\n",
              "    </tr>\n",
              "    <tr>\n",
              "      <th>1544</th>\n",
              "      <td>5023655</td>\n",
              "      <td>0</td>\n",
              "      <td>-10229.0</td>\n",
              "      <td>-1209</td>\n",
              "      <td>1</td>\n",
              "      <td>0</td>\n",
              "      <td>0</td>\n",
              "      <td>0</td>\n",
              "      <td>1</td>\n",
              "      <td>0</td>\n",
              "      <td>...</td>\n",
              "      <td>0</td>\n",
              "      <td>0</td>\n",
              "      <td>1</td>\n",
              "      <td>0</td>\n",
              "      <td>0</td>\n",
              "      <td>1</td>\n",
              "      <td>0</td>\n",
              "      <td>0</td>\n",
              "      <td>0</td>\n",
              "      <td>0</td>\n",
              "    </tr>\n",
              "    <tr>\n",
              "      <th>1545</th>\n",
              "      <td>5115992</td>\n",
              "      <td>2</td>\n",
              "      <td>-13174.0</td>\n",
              "      <td>-2477</td>\n",
              "      <td>1</td>\n",
              "      <td>0</td>\n",
              "      <td>0</td>\n",
              "      <td>0</td>\n",
              "      <td>4</td>\n",
              "      <td>0</td>\n",
              "      <td>...</td>\n",
              "      <td>1</td>\n",
              "      <td>0</td>\n",
              "      <td>0</td>\n",
              "      <td>0</td>\n",
              "      <td>0</td>\n",
              "      <td>1</td>\n",
              "      <td>0</td>\n",
              "      <td>0</td>\n",
              "      <td>0</td>\n",
              "      <td>0</td>\n",
              "    </tr>\n",
              "    <tr>\n",
              "      <th>1546</th>\n",
              "      <td>5118219</td>\n",
              "      <td>0</td>\n",
              "      <td>-15292.0</td>\n",
              "      <td>-645</td>\n",
              "      <td>1</td>\n",
              "      <td>1</td>\n",
              "      <td>1</td>\n",
              "      <td>0</td>\n",
              "      <td>2</td>\n",
              "      <td>0</td>\n",
              "      <td>...</td>\n",
              "      <td>0</td>\n",
              "      <td>0</td>\n",
              "      <td>0</td>\n",
              "      <td>0</td>\n",
              "      <td>0</td>\n",
              "      <td>1</td>\n",
              "      <td>0</td>\n",
              "      <td>0</td>\n",
              "      <td>0</td>\n",
              "      <td>0</td>\n",
              "    </tr>\n",
              "    <tr>\n",
              "      <th>1547</th>\n",
              "      <td>5053790</td>\n",
              "      <td>0</td>\n",
              "      <td>-16601.0</td>\n",
              "      <td>-2859</td>\n",
              "      <td>1</td>\n",
              "      <td>0</td>\n",
              "      <td>0</td>\n",
              "      <td>0</td>\n",
              "      <td>2</td>\n",
              "      <td>0</td>\n",
              "      <td>...</td>\n",
              "      <td>1</td>\n",
              "      <td>0</td>\n",
              "      <td>0</td>\n",
              "      <td>0</td>\n",
              "      <td>0</td>\n",
              "      <td>1</td>\n",
              "      <td>0</td>\n",
              "      <td>0</td>\n",
              "      <td>0</td>\n",
              "      <td>0</td>\n",
              "    </tr>\n",
              "  </tbody>\n",
              "</table>\n",
              "<p>5 rows × 38 columns</p>\n",
              "</div>\n",
              "      <button class=\"colab-df-convert\" onclick=\"convertToInteractive('df-287c2b83-5714-4ef0-a521-778e33bf68b0')\"\n",
              "              title=\"Convert this dataframe to an interactive table.\"\n",
              "              style=\"display:none;\">\n",
              "        \n",
              "  <svg xmlns=\"http://www.w3.org/2000/svg\" height=\"24px\"viewBox=\"0 0 24 24\"\n",
              "       width=\"24px\">\n",
              "    <path d=\"M0 0h24v24H0V0z\" fill=\"none\"/>\n",
              "    <path d=\"M18.56 5.44l.94 2.06.94-2.06 2.06-.94-2.06-.94-.94-2.06-.94 2.06-2.06.94zm-11 1L8.5 8.5l.94-2.06 2.06-.94-2.06-.94L8.5 2.5l-.94 2.06-2.06.94zm10 10l.94 2.06.94-2.06 2.06-.94-2.06-.94-.94-2.06-.94 2.06-2.06.94z\"/><path d=\"M17.41 7.96l-1.37-1.37c-.4-.4-.92-.59-1.43-.59-.52 0-1.04.2-1.43.59L10.3 9.45l-7.72 7.72c-.78.78-.78 2.05 0 2.83L4 21.41c.39.39.9.59 1.41.59.51 0 1.02-.2 1.41-.59l7.78-7.78 2.81-2.81c.8-.78.8-2.07 0-2.86zM5.41 20L4 18.59l7.72-7.72 1.47 1.35L5.41 20z\"/>\n",
              "  </svg>\n",
              "      </button>\n",
              "      \n",
              "  <style>\n",
              "    .colab-df-container {\n",
              "      display:flex;\n",
              "      flex-wrap:wrap;\n",
              "      gap: 12px;\n",
              "    }\n",
              "\n",
              "    .colab-df-convert {\n",
              "      background-color: #E8F0FE;\n",
              "      border: none;\n",
              "      border-radius: 50%;\n",
              "      cursor: pointer;\n",
              "      display: none;\n",
              "      fill: #1967D2;\n",
              "      height: 32px;\n",
              "      padding: 0 0 0 0;\n",
              "      width: 32px;\n",
              "    }\n",
              "\n",
              "    .colab-df-convert:hover {\n",
              "      background-color: #E2EBFA;\n",
              "      box-shadow: 0px 1px 2px rgba(60, 64, 67, 0.3), 0px 1px 3px 1px rgba(60, 64, 67, 0.15);\n",
              "      fill: #174EA6;\n",
              "    }\n",
              "\n",
              "    [theme=dark] .colab-df-convert {\n",
              "      background-color: #3B4455;\n",
              "      fill: #D2E3FC;\n",
              "    }\n",
              "\n",
              "    [theme=dark] .colab-df-convert:hover {\n",
              "      background-color: #434B5C;\n",
              "      box-shadow: 0px 1px 3px 1px rgba(0, 0, 0, 0.15);\n",
              "      filter: drop-shadow(0px 1px 2px rgba(0, 0, 0, 0.3));\n",
              "      fill: #FFFFFF;\n",
              "    }\n",
              "  </style>\n",
              "\n",
              "      <script>\n",
              "        const buttonEl =\n",
              "          document.querySelector('#df-287c2b83-5714-4ef0-a521-778e33bf68b0 button.colab-df-convert');\n",
              "        buttonEl.style.display =\n",
              "          google.colab.kernel.accessAllowed ? 'block' : 'none';\n",
              "\n",
              "        async function convertToInteractive(key) {\n",
              "          const element = document.querySelector('#df-287c2b83-5714-4ef0-a521-778e33bf68b0');\n",
              "          const dataTable =\n",
              "            await google.colab.kernel.invokeFunction('convertToInteractive',\n",
              "                                                     [key], {});\n",
              "          if (!dataTable) return;\n",
              "\n",
              "          const docLinkHtml = 'Like what you see? Visit the ' +\n",
              "            '<a target=\"_blank\" href=https://colab.research.google.com/notebooks/data_table.ipynb>data table notebook</a>'\n",
              "            + ' to learn more about interactive tables.';\n",
              "          element.innerHTML = '';\n",
              "          dataTable['output_type'] = 'display_data';\n",
              "          await google.colab.output.renderOutput(dataTable, element);\n",
              "          const docLink = document.createElement('div');\n",
              "          docLink.innerHTML = docLinkHtml;\n",
              "          element.appendChild(docLink);\n",
              "        }\n",
              "      </script>\n",
              "    </div>\n",
              "  </div>\n",
              "  "
            ],
            "text/plain": [
              "       Ind_ID  CHILDREN  Birthday_count  Employed_days  Mobile_phone  \\\n",
              "1543  5028645         0        -11957.0          -2182             1   \n",
              "1544  5023655         0        -10229.0          -1209             1   \n",
              "1545  5115992         2        -13174.0          -2477             1   \n",
              "1546  5118219         0        -15292.0           -645             1   \n",
              "1547  5053790         0        -16601.0          -2859             1   \n",
              "\n",
              "      Work_Phone  Phone  EMAIL_ID  Family_Members  Credit_card_approval  ...  \\\n",
              "1543           0      0         0               2                     0  ...   \n",
              "1544           0      0         0               1                     0  ...   \n",
              "1545           0      0         0               4                     0  ...   \n",
              "1546           1      1         0               2                     0  ...   \n",
              "1547           0      0         0               2                     0  ...   \n",
              "\n",
              "      Marital_status_Married  Marital_status_Separated  \\\n",
              "1543                       1                         0   \n",
              "1544                       0                         0   \n",
              "1545                       1                         0   \n",
              "1546                       0                         0   \n",
              "1547                       1                         0   \n",
              "\n",
              "      Marital_status_Single / not married  Marital_status_Widow  \\\n",
              "1543                                    0                     0   \n",
              "1544                                    1                     0   \n",
              "1545                                    0                     0   \n",
              "1546                                    0                     0   \n",
              "1547                                    0                     0   \n",
              "\n",
              "      Housing_type_Co-op apartment  Housing_type_House / apartment  \\\n",
              "1543                             0                               1   \n",
              "1544                             0                               1   \n",
              "1545                             0                               1   \n",
              "1546                             0                               1   \n",
              "1547                             0                               1   \n",
              "\n",
              "      Housing_type_Municipal apartment  Housing_type_Office apartment  \\\n",
              "1543                                 0                              0   \n",
              "1544                                 0                              0   \n",
              "1545                                 0                              0   \n",
              "1546                                 0                              0   \n",
              "1547                                 0                              0   \n",
              "\n",
              "      Housing_type_Rented apartment  Housing_type_With parents  \n",
              "1543                              0                          0  \n",
              "1544                              0                          0  \n",
              "1545                              0                          0  \n",
              "1546                              0                          0  \n",
              "1547                              0                          0  \n",
              "\n",
              "[5 rows x 38 columns]"
            ]
          },
          "execution_count": 174,
          "metadata": {},
          "output_type": "execute_result"
        }
      ],
      "source": [
        "df.tail()"
      ]
    },
    {
      "cell_type": "markdown",
      "metadata": {
        "id": "ZaOKKkBwzwPd"
      },
      "source": [
        "# **VISUALIZATION**"
      ]
    },
    {
      "cell_type": "markdown",
      "metadata": {
        "id": "UN5AmDC4M6CY"
      },
      "source": [
        "### Here we can see the approval rate of credit card between men and women."
      ]
    },
    {
      "cell_type": "code",
      "execution_count": null,
      "metadata": {
        "colab": {
          "base_uri": "https://localhost:8080/",
          "height": 366
        },
        "id": "4WIeWkoMiewR",
        "outputId": "38d64cdc-c32d-4dec-959a-173f5470998e"
      },
      "outputs": [
        {
          "name": "stdout",
          "output_type": "stream",
          "text": [
            "Credit_card_approval    0   1\n",
            "GENDER                       \n",
            "F                     867  94\n",
            "M                     484  74\n"
          ]
        },
        {
          "data": {
            "text/plain": [
              "<matplotlib.axes._subplots.AxesSubplot at 0x7f8d84bf58b0>"
            ]
          },
          "execution_count": 27,
          "metadata": {},
          "output_type": "execute_result"
        },
        {
          "data": {
            "image/png": "[encoded data removed]",
            "text/plain": [
              "<Figure size 504x288 with 1 Axes>"
            ]
          },
          "metadata": {
            "needs_background": "light"
          },
          "output_type": "display_data"
        }
      ],
      "source": [
        "CrosstabResult=pd.crosstab(index=df['GENDER'],columns=df['Credit_card_approval'])\n",
        "print(CrosstabResult)\n",
        "CrosstabResult.plot.bar(figsize=(7,4), rot=0)\n",
        "plt.title()"
      ]
    },
    {
      "cell_type": "markdown",
      "metadata": {
        "id": "gncsK-JVSO_j"
      },
      "source": [
        "### From the below graph we conclude that families with less children are more likely to get a credit card approval."
      ]
    },
    {
      "cell_type": "code",
      "execution_count": null,
      "metadata": {
        "colab": {
          "base_uri": "https://localhost:8080/",
          "height": 435
        },
        "id": "nnLwjWX5i0UM",
        "outputId": "8fe5c524-10a0-4022-9395-afddbb600e89"
      },
      "outputs": [
        {
          "name": "stdout",
          "output_type": "stream",
          "text": [
            "Credit_card_approval  0.0  1.0\n",
            "CHILDREN                      \n",
            "0                     949  120\n",
            "1                     266   35\n",
            "2                     119   12\n",
            "3                      16    0\n",
            "4                       0    1\n",
            "14                      1    0\n"
          ]
        },
        {
          "data": {
            "text/plain": [
              "<matplotlib.axes._subplots.AxesSubplot at 0x7efc68eec250>"
            ]
          },
          "execution_count": 74,
          "metadata": {},
          "output_type": "execute_result"
        },
        {
          "data": {
            "image/png": "[encoded data removed]",
            "text/plain": [
              "<Figure size 432x288 with 1 Axes>"
            ]
          },
          "metadata": {
            "needs_background": "light"
          },
          "output_type": "display_data"
        }
      ],
      "source": [
        "CrosstabResult=pd.crosstab(index=df['CHILDREN'],columns=df['Credit_card_approval'])\n",
        "print(CrosstabResult)\n",
        "CrosstabResult.plot.bar(rot = 0)#0 is approved 1 is rejected"
      ]
    },
    {
      "cell_type": "markdown",
      "metadata": {
        "id": "Rn4uAFerSwjE"
      },
      "source": [
        "### This graph shows us that people with more income are more likely to get their credit card approved."
      ]
    },
    {
      "cell_type": "code",
      "execution_count": null,
      "metadata": {
        "colab": {
          "base_uri": "https://localhost:8080/",
          "height": 459
        },
        "id": "f5tnqKhJeC6z",
        "outputId": "3d6c93d4-ae2d-4416-b076-5898b56ab284"
      },
      "outputs": [
        {
          "data": {
            "text/plain": [
              "<matplotlib.axes._subplots.AxesSubplot at 0x7f8d84d88b50>"
            ]
          },
          "execution_count": 28,
          "metadata": {},
          "output_type": "execute_result"
        },
        {
          "data": {
            "image/png": "[encoded data removed]",
            "text/plain": [
              "<Figure size 720x504 with 1 Axes>"
            ]
          },
          "metadata": {
            "needs_background": "light"
          },
          "output_type": "display_data"
        }
      ],
      "source": [
        "plt.figure(figsize=(10,7))\n",
        "sns.barplot(x='GENDER', y='new_Annual_income', data=df, hue='Credit_card_approval', dodge=True, palette='viridis')\n"
      ]
    },
    {
      "cell_type": "markdown",
      "metadata": {
        "id": "45aiW4tMTQG5"
      },
      "source": [
        "### As you can see the disapproval rate of more educated individual is less than that of less educated individual."
      ]
    },
    {
      "cell_type": "code",
      "execution_count": null,
      "metadata": {
        "colab": {
          "base_uri": "https://localhost:8080/",
          "height": 459
        },
        "id": "LUenmRFNp5vs",
        "outputId": "7589eb68-fbac-40bd-c908-2d5d3e7fbdcf"
      },
      "outputs": [
        {
          "data": {
            "text/plain": [
              "<matplotlib.axes._subplots.AxesSubplot at 0x7f8d84969430>"
            ]
          },
          "execution_count": 29,
          "metadata": {},
          "output_type": "execute_result"
        },
        {
          "data": {
            "image/png": "[encoded data removed]",
            "text/plain": [
              "<Figure size 1008x504 with 1 Axes>"
            ]
          },
          "metadata": {
            "needs_background": "light"
          },
          "output_type": "display_data"
        }
      ],
      "source": [
        "plt.figure(figsize=(14,7))\n",
        "sns.barplot(x='EDUCATION', y='new_Annual_income', data=df, hue='Credit_card_approval', dodge=True, palette='viridis')"
      ]
    },
    {
      "cell_type": "markdown",
      "metadata": {
        "id": "Stzp5GpWU5Yz"
      },
      "source": [
        "### This graph shows credit card approval rate according to age."
      ]
    },
    {
      "cell_type": "code",
      "execution_count": 59,
      "metadata": {
        "colab": {
          "base_uri": "https://localhost:8080/",
          "height": 297
        },
        "id": "_1Xa-6EyUWbc",
        "outputId": "eb7491ae-1afd-4590-cdde-e1b5676ce45c"
      },
      "outputs": [
        {
          "data": {
            "text/plain": [
              "<matplotlib.axes._subplots.AxesSubplot at 0x7f0421bb4d60>"
            ]
          },
          "execution_count": 59,
          "metadata": {},
          "output_type": "execute_result"
        },
        {
          "data": {
            "image/png": "[encoded data removed]",
            "text/plain": [
              "<Figure size 432x288 with 1 Axes>"
            ]
          },
          "metadata": {
            "needs_background": "light"
          },
          "output_type": "display_data"
        }
      ],
      "source": [
        "sns.barplot(x= 'Credit_card_approval',y='Age',hue = 'GENDER', data = df)"
      ]
    },
    {
      "cell_type": "markdown",
      "metadata": {
        "id": "Vtx0xiMAnlX1"
      },
      "source": [
        "# **SPLITTING THE TEST AND TRAIN DATA**"
      ]
    },
    {
      "cell_type": "markdown",
      "metadata": {
        "id": "PRmv2IdKhc--"
      },
      "source": [
        "### Here we can split the data into test and train. Also data gets divided into target variable and independent variable."
      ]
    },
    {
      "cell_type": "code",
      "execution_count": 119,
      "metadata": {
        "colab": {
          "base_uri": "https://localhost:8080/"
        },
        "id": "PjZOAWY8oDve",
        "outputId": "4cff40a5-71aa-4aed-e93b-e3bb3b961505"
      },
      "outputs": [
        {
          "data": {
            "text/plain": [
              "Index(['Ind_ID', 'CHILDREN', 'Birthday_count', 'Employed_days', 'Mobile_phone',\n",
              "       'Work_Phone', 'Phone', 'EMAIL_ID', 'Family_Members',\n",
              "       'Credit_card_approval', 'new_Annual_income', 'GENDER_F', 'GENDER_M',\n",
              "       'Car_Owner_N', 'Car_Owner_Y', 'Propert_Owner_N', 'Propert_Owner_Y',\n",
              "       'Type_Income_Commercial associate', 'Type_Income_Pensioner',\n",
              "       'Type_Income_State servant', 'Type_Income_Working',\n",
              "       'EDUCATION_Academic degree', 'EDUCATION_Higher education',\n",
              "       'EDUCATION_Incomplete higher', 'EDUCATION_Lower secondary',\n",
              "       'EDUCATION_Secondary / secondary special',\n",
              "       'Marital_status_Civil marriage', 'Marital_status_Married',\n",
              "       'Marital_status_Separated', 'Marital_status_Single / not married',\n",
              "       'Marital_status_Widow', 'Housing_type_Co-op apartment',\n",
              "       'Housing_type_House / apartment', 'Housing_type_Municipal apartment',\n",
              "       'Housing_type_Office apartment', 'Housing_type_Rented apartment',\n",
              "       'Housing_type_With parents'],\n",
              "      dtype='object')"
            ]
          },
          "execution_count": 119,
          "metadata": {},
          "output_type": "execute_result"
        }
      ],
      "source": [
        "df.columns"
      ]
    },
    {
      "cell_type": "code",
      "execution_count": 178,
      "metadata": {
        "id": "zt63DmZ3n92C"
      },
      "outputs": [],
      "source": [
        "X= df[['CHILDREN', 'Employed_days', 'Mobile_phone',\n",
        "       'Work_Phone', 'Phone', 'EMAIL_ID', 'Family_Members',\n",
        "        'new_Annual_income', 'GENDER_F', 'GENDER_M',\n",
        "       'Car_Owner_N', 'Car_Owner_Y', 'Propert_Owner_N', 'Propert_Owner_Y',\n",
        "       'Type_Income_Commercial associate', 'Type_Income_Pensioner',\n",
        "       'Type_Income_State servant', 'Type_Income_Working',\n",
        "       'EDUCATION_Academic degree', 'EDUCATION_Higher education',\n",
        "       'EDUCATION_Incomplete higher', 'EDUCATION_Lower secondary',\n",
        "       'EDUCATION_Secondary / secondary special',\n",
        "       'Marital_status_Civil marriage', 'Marital_status_Married',\n",
        "       'Marital_status_Separated', 'Marital_status_Single / not married',\n",
        "       'Marital_status_Widow', 'Housing_type_Co-op apartment',\n",
        "       'Housing_type_House / apartment', 'Housing_type_Municipal apartment',\n",
        "       'Housing_type_Office apartment', 'Housing_type_Rented apartment',\n",
        "       'Housing_type_With parents']]\n",
        "Y = df['Credit_card_approval']"
      ]
    },
    {
      "cell_type": "markdown",
      "metadata": {
        "id": "tS0lXItKhwQd"
      },
      "source": [
        "### About 30% of data is used in testing, the rest 70% is used to train the model."
      ]
    },
    {
      "cell_type": "code",
      "execution_count": 179,
      "metadata": {
        "id": "ey5j9_jHmqzd"
      },
      "outputs": [],
      "source": [
        "from sklearn.model_selection import train_test_split\n",
        "xTrain, xTest, yTrain, yTest = train_test_split(X, Y,\n",
        "                                               test_size=0.30,\n",
        "                                               random_state=2)"
      ]
    },
    {
      "cell_type": "code",
      "execution_count": 180,
      "metadata": {
        "id": "OWwPaZVEObTm"
      },
      "outputs": [],
      "source": [
        "# Import MinMaxScaler\n",
        "from sklearn.preprocessing import MinMaxScaler\n",
        "\n",
        "# Instantiate MinMaxScaler and use it to rescale X_train and X_test\n",
        "scaler = MinMaxScaler(feature_range=(0,1))\n",
        "rescaledX_train = scaler.fit_transform(xTrain)\n",
        "rescaledX_test = scaler.fit_transform(xTest)"
      ]
    },
    {
      "cell_type": "markdown",
      "metadata": {
        "id": "i_2O9CxTxMEO"
      },
      "source": [
        "## **MACHINE LEARNING MODELS**"
      ]
    },
    {
      "cell_type": "markdown",
      "metadata": {
        "id": "Uyf8iGNtiApj"
      },
      "source": [
        "### Finally machine learning models are being deployed. The first one is Logistic Regression."
      ]
    },
    {
      "cell_type": "code",
      "execution_count": 208,
      "metadata": {
        "id": "OHOFAFYMfG-6"
      },
      "outputs": [],
      "source": [
        "from sklearn.metrics import accuracy_score \n",
        "from sklearn.tree import DecisionTreeClassifier\n",
        "from sklearn.neighbors import KNeighborsClassifier\n",
        "from pandas import DataFrame\n",
        "from xgboost import XGBClassifier"
      ]
    },
    {
      "cell_type": "code",
      "execution_count": 181,
      "metadata": {
        "colab": {
          "base_uri": "https://localhost:8080/"
        },
        "id": "-Vwpiqq1oi3g",
        "outputId": "bc46c906-e269-4997-b8e9-67e40e8d45ac"
      },
      "outputs": [
        {
          "data": {
            "text/plain": [
              "LogisticRegression()"
            ]
          },
          "execution_count": 181,
          "metadata": {},
          "output_type": "execute_result"
        }
      ],
      "source": [
        "from sklearn.linear_model import LogisticRegression \n",
        "# Instantiate a LogisticRegression classifier with default parameter values\n",
        "logreg = LogisticRegression()\n",
        "logreg.fit(rescaledX_train, yTrain)"
      ]
    },
    {
      "cell_type": "code",
      "execution_count": 186,
      "metadata": {
        "id": "rxXiiHg1bsul"
      },
      "outputs": [],
      "source": [
        "from sklearn import metrics\n",
        "y_pred_test_logreg = logreg.predict(rescaledX_test)\n",
        "y_pred_train_logreg = logreg.predict(rescaledX_train)\n"
      ]
    },
    {
      "cell_type": "markdown",
      "metadata": {
        "id": "1nMhcR4MiUwI"
      },
      "source": [
        "### Evaluating the accuracy of logistic regression with the help of confusion matrix."
      ]
    },
    {
      "cell_type": "code",
      "execution_count": 187,
      "metadata": {
        "colab": {
          "base_uri": "https://localhost:8080/"
        },
        "id": "VcBlvcd3iUBl",
        "outputId": "c8ba2883-737a-4dc1-acd8-2c49355e4be1"
      },
      "outputs": [
        {
          "name": "stdout",
          "output_type": "stream",
          "text": [
            "Test: Accuracy =  0.8969298245614035\n",
            "Train: Accuracy =  0.8852304797742239\n",
            "[[409   1]\n",
            " [ 46   0]]\n"
          ]
        }
      ],
      "source": [
        "print(\"Test: Accuracy = \", logreg.score(rescaledX_test,yTest))\n",
        "print(\"Train: Accuracy = \", logreg.score(rescaledX_train,yTrain))\n",
        "\n",
        "confusion_matrix = metrics.confusion_matrix(yTest,y_pred_test_logreg)\n",
        "print(confusion_matrix)"
      ]
    },
    {
      "cell_type": "markdown",
      "metadata": {
        "id": "8QHIdZqjp-rH"
      },
      "source": [
        "### The above code shows us that the accuracy from logistic regression model is 0.8969298245614035."
      ]
    },
    {
      "cell_type": "markdown",
      "metadata": {
        "id": "_1jUBBpJnWYW"
      },
      "source": [
        "### The next model we use is called K-Nearest Neighbour. In the below code we test, train and select the right number of neighbors."
      ]
    },
    {
      "cell_type": "code",
      "execution_count": 188,
      "metadata": {
        "colab": {
          "base_uri": "https://localhost:8080/",
          "height": 312
        },
        "id": "LdRu8G8rffj8",
        "outputId": "24de2f20-d538-44c8-df0d-0c820ffd442f"
      },
      "outputs": [
        {
          "data": {
            "text/plain": [
              "Text(0, 0.5, 'Error Rate')"
            ]
          },
          "execution_count": 188,
          "metadata": {},
          "output_type": "execute_result"
        },
        {
          "data": {
            "image/png": "[encoded data removed]",
            "text/plain": [
              "<Figure size 720x288 with 1 Axes>"
            ]
          },
          "metadata": {
            "needs_background": "light"
          },
          "output_type": "display_data"
        }
      ],
      "source": [
        "# import numpy\n",
        "import numpy as np\n",
        "error_rate = []\n",
        "# searching k value upto  40\n",
        "for i in range(1,40):\n",
        "    # knn algorithm \n",
        "    knn = KNeighborsClassifier(n_neighbors=i)\n",
        "    knn.fit(rescaledX_train, yTrain)\n",
        "    # testing the model\n",
        "    y_pred_test_knn = knn.predict(rescaledX_test)\n",
        "    #training the model\n",
        "    y_pred_train_knn = knn.predict(rescaledX_train)\n",
        "\n",
        "    error_rate.append(np.mean(y_pred_test_knn != yTest))\n",
        "# Configure and plot error rate over k values\n",
        "plt.figure(figsize=(10,4))\n",
        "plt.plot(range(1,40), error_rate, color='blue', linestyle='dashed', marker='o', markerfacecolor='red', markersize=10)\n",
        "plt.title('Error Rate vs. K-Values')\n",
        "plt.xlabel('K-Values')\n",
        "plt.ylabel('Error Rate')"
      ]
    },
    {
      "cell_type": "markdown",
      "metadata": {
        "id": "aDHh9mFcpQm2"
      },
      "source": [
        "### From the above graph we conclude that k values from 13 to 39 are valid neighbors. The below code tells us that accuracy score of knn model is 0.8991228070175439."
      ]
    },
    {
      "cell_type": "code",
      "execution_count": 191,
      "metadata": {
        "colab": {
          "base_uri": "https://localhost:8080/"
        },
        "id": "iN-d-3qZk9Tv",
        "outputId": "1cb241b4-110f-4545-9182-e544b005c80d"
      },
      "outputs": [
        {
          "name": "stdout",
          "output_type": "stream",
          "text": [
            "Train score: 0.8852304797742239 Test score: 0.8991228070175439\n",
            "39 Train score: 0.8852304797742239 Test score: 0.8991228070175439\n"
          ]
        }
      ],
      "source": [
        "test_acc_knn = accuracy_score(yTest, y_pred_test_knn)\n",
        "train_acc_knn = accuracy_score(yTrain,y_pred_train_knn)\n",
        "print('Train score:',train_acc_knn,'Test score:',test_acc_knn)\n",
        "print(i,'Train score:',train_acc_knn,'Test score:',test_acc_knn)"
      ]
    },
    {
      "cell_type": "markdown",
      "metadata": {
        "id": "rdp3UidmqIQI"
      },
      "source": [
        "### Next we deploy decision tree model."
      ]
    },
    {
      "cell_type": "code",
      "execution_count": 206,
      "metadata": {
        "colab": {
          "base_uri": "https://localhost:8080/"
        },
        "id": "VKJIEe6uqjaj",
        "outputId": "7455a20d-d9d4-480c-d589-ac78447067fc"
      },
      "outputs": [
        {
          "name": "stdout",
          "output_type": "stream",
          "text": [
            "1 Train score: 0.8852304797742239 Test score: 0.8991228070175439\n",
            "2 Train score: 0.8871119473189087 Test score: 0.9013157894736842\n",
            "3 Train score: 0.8918156161806209 Test score: 0.9013157894736842\n",
            "4 Train score: 0.8974600188146754 Test score: 0.8969298245614035\n",
            "5 Train score: 0.90310442144873 Test score: 0.8991228070175439\n",
            "6 Train score: 0.9134524929444967 Test score: 0.8793859649122807\n",
            "7 Train score: 0.916274694261524 Test score: 0.8903508771929824\n",
            "8 Train score: 0.9219190968955786 Test score: 0.8793859649122807\n",
            "9 Train score: 0.9313264346190028 Test score: 0.8925438596491229\n"
          ]
        }
      ],
      "source": [
        "test_acc=[]\n",
        "list_score=[]\n",
        "\n",
        "\n",
        "for i in range(1, 10):\n",
        "    dtc = DecisionTreeClassifier(max_depth = i ,random_state = 0)\n",
        "    dtc.fit(xTrain, yTrain)\n",
        "    train_pred = dtc.predict(xTrain)\n",
        "    test_pred = dtc.predict(xTest)\n",
        "    test_acc = accuracy_score(yTest, test_pred)\n",
        "    train_acc = accuracy_score(yTrain, train_pred)\n",
        "    print(i,'Train score:',train_acc,'Test score:',test_acc)\n",
        "    list_score.append([i,accuracy_score(train_pred, yTrain),accuracy_score(test_pred, yTest)]) \n",
        "    \n",
        "  "
      ]
    },
    {
      "cell_type": "markdown",
      "metadata": {
        "id": "tJ2lL05HtzZ0"
      },
      "source": [
        "### In the plot of Accuracy vs Depth for train and test data, we see for max_depth = 4 both train and test accuracy are the same. We choose this value for our model as it avoids a model that is either overfitted or underfitted."
      ]
    },
    {
      "cell_type": "code",
      "execution_count": 207,
      "metadata": {
        "colab": {
          "base_uri": "https://localhost:8080/",
          "height": 296
        },
        "id": "Mkmu-e-0sEAD",
        "outputId": "a5b76610-e468-40a8-ea5d-79f2b04485c3"
      },
      "outputs": [
        {
          "data": {
            "text/plain": [
              "<matplotlib.legend.Legend at 0x7f041fde9100>"
            ]
          },
          "execution_count": 207,
          "metadata": {},
          "output_type": "execute_result"
        },
        {
          "data": {
            "image/png": "[encoded data removed]",
            "text/plain": [
              "<Figure size 432x288 with 1 Axes>"
            ]
          },
          "metadata": {
            "needs_background": "light"
          },
          "output_type": "display_data"
        }
      ],
      "source": [
        "df2 = DataFrame (list_score,columns=['Depth','Train Accuracy','Test Accuracy'])\n",
        "plt.plot(df2['Depth'],df2['Test Accuracy'],label='Test Accuracy')\n",
        "plt.plot(df2['Depth'],df2['Train Accuracy'],label='Train Accuracy')\n",
        "plt.xlabel('Depth')\n",
        "plt.ylabel('Accuracy')\n",
        "plt.legend()    "
      ]
    },
    {
      "cell_type": "markdown",
      "metadata": {
        "id": "7_KOMAIZu2J5"
      },
      "source": [
        "### Our fourth model is XGBOOST."
      ]
    },
    {
      "cell_type": "code",
      "execution_count": 210,
      "metadata": {
        "colab": {
          "base_uri": "https://localhost:8080/"
        },
        "id": "u0U06B2ZvIFw",
        "outputId": "7f7efaa3-925a-47ae-aaa0-661b66926365"
      },
      "outputs": [
        {
          "name": "stdout",
          "output_type": "stream",
          "text": [
            "Train score: 0.896519285042333 Test score: 0.9035087719298246\n"
          ]
        }
      ],
      "source": [
        "model = XGBClassifier()\n",
        "model.fit(xTrain, yTrain)\n",
        "y_pred_train_xg= model.predict(xTrain)\n",
        "y_pred_test_xg = model.predict(xTest)\n",
        "test_acc = accuracy_score(yTest, y_pred_test_xg)\n",
        "train_acc = accuracy_score(yTrain, y_pred_train_xg)\n",
        "print('Train score:',train_acc,'Test score:',test_acc)"
      ]
    },
    {
      "cell_type": "markdown",
      "metadata": {
        "id": "sOopUXKTwAX5"
      },
      "source": [
        "### From evaluating all four above models, we can conclude that XGBoost model is the most accurate. Since it has a test score accuracy of 0.9035087719298246 whereas Logistic Regression, Decision Tree, KNN models have accuracy scores of 0.8969298245614035, 0.8969298245614035,0.8991228070175439 respectively."
      ]
    }
  ],
  "metadata": {
    "colab": {
      "provenance": []
    },
    "kernelspec": {
      "display_name": "Python 3",
      "language": "python",
      "name": "python3"
    },
    "language_info": {
      "name": "python",
      "version": "3.10.10"
    },
    "vscode": {
      "interpreter": {
        "hash": "4f374fe75cd31bf561846c71fe01df4560a68b9701425f31e3b64cd75cbf15c2"
      }
    }
  },
  "nbformat": 4,
  "nbformat_minor": 0
}
